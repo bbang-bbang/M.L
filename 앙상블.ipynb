{
  "nbformat": 4,
  "nbformat_minor": 0,
  "metadata": {
    "colab": {
      "name": "앙상블(2022_01_22).ipynb",
      "provenance": [],
      "collapsed_sections": []
    },
    "kernelspec": {
      "name": "python3",
      "display_name": "Python 3"
    },
    "language_info": {
      "name": "python"
    }
  },
  "cells": [
    {
      "cell_type": "markdown",
      "source": [
        "# 앙상블\n",
        "## 평균 방법\n",
        "* 여러개의 추정값을 독립적으로 구한뒤 평균을 취함\n",
        "* 결합 추정값은 분산이 줄어들기 때문에 단일 추정값조다 좋은 성능\n",
        "\n",
        "## 부스팅 방법\n",
        "* 순차적으로 모델 생성\n",
        "* 결합된 모델의 편향을 감소 시키기 위해 노력\n",
        "* 부스팅 방법의 목표는 여러개의 약한 모델들을 결합해 하나의 강력한 앙상블 모델을 구축  "
      ],
      "metadata": {
        "id": "m1DpfpWhvF2P"
      }
    },
    {
      "cell_type": "markdown",
      "source": [
        "# Bagging meta-estimator\n",
        "* bagging은 bootstrap aggregating의 줄임말\n",
        "* 데이터셋 일부를 사용해 모델 훈련\n",
        "* 분산을 줄이고 과적합 방지\n",
        "* 강력하고 복잡한 모델 작동"
      ],
      "metadata": {
        "id": "3XgUdV0tv8-s"
      }
    },
    {
      "cell_type": "code",
      "source": [
        "from sklearn.datasets import load_iris, load_boston, load_wine, load_breast_cancer, load_diabetes\n",
        "from sklearn.model_selection import train_test_split\n",
        "from sklearn.preprocessing import StandardScaler\n",
        "from sklearn.pipeline import make_pipeline\n",
        "from sklearn.model_selection import cross_validate"
      ],
      "metadata": {
        "id": "8JviFVsYRbaw"
      },
      "execution_count": 9,
      "outputs": []
    },
    {
      "cell_type": "code",
      "execution_count": 10,
      "metadata": {
        "id": "0Y45ayM0u7-N"
      },
      "outputs": [],
      "source": [
        "from sklearn.ensemble import BaggingClassifier\n",
        "from sklearn.neighbors import KNeighborsClassifier\n",
        "from sklearn.svm import SVC\n",
        "from sklearn.tree import DecisionTreeClassifier"
      ]
    },
    {
      "cell_type": "code",
      "source": [
        "from sklearn.ensemble import BaggingRegressor\n",
        "from sklearn.neighbors import KNeighborsRegressor\n",
        "from sklearn.svm import SVR\n",
        "from sklearn.tree import DecisionTreeRegressor"
      ],
      "metadata": {
        "id": "ZzJ84R9ZSUdj"
      },
      "execution_count": 11,
      "outputs": []
    },
    {
      "cell_type": "markdown",
      "source": [
        "## bagging을 사용한 분류"
      ],
      "metadata": {
        "id": "6uIcMVLYSe9f"
      }
    },
    {
      "cell_type": "markdown",
      "source": [
        "### KNN\n",
        "* 붓꽃 데이터"
      ],
      "metadata": {
        "id": "UkuEH7kB6xHV"
      }
    },
    {
      "cell_type": "code",
      "source": [
        "iris = load_iris()\n",
        "\n",
        "base_model = make_pipeline(\n",
        "    StandardScaler(),\n",
        "    KNeighborsClassifier()\n",
        ")\n",
        "\n",
        "bagging_model = BaggingClassifier(base_model, n_estimators= 10, max_samples=0.5, max_features= 0.5)"
      ],
      "metadata": {
        "id": "EoSAqEggTwnd"
      },
      "execution_count": 18,
      "outputs": []
    },
    {
      "cell_type": "code",
      "source": [
        "cross_val = cross_validate(\n",
        "    estimator = base_model,\n",
        "    X = iris.data, y= iris.target,\n",
        "    cv = 5\n",
        ")\n",
        "print('avg fit time : {} (+/-{})'.format(cross_val['fit_time'].mean(), cross_val['fit_time'].std()))\n",
        "print('avg score time : {} (+/-{})'.format(cross_val['score_time'].mean(), cross_val['score_time'].std()))\n",
        "print('avg test time : {} (+/-{})'.format(cross_val['test_score'].mean(), cross_val['test_score'].std()))"
      ],
      "metadata": {
        "id": "cItPm56bUDks",
        "colab": {
          "base_uri": "https://localhost:8080/"
        },
        "outputId": "291e6cdf-e523-42ce-adee-85701efdb18a"
      },
      "execution_count": 23,
      "outputs": [
        {
          "output_type": "stream",
          "name": "stdout",
          "text": [
            "avg fit time : 0.0019963264465332033 (+/-0.0014755729397002706)\n",
            "avg score time : 0.002412271499633789 (+/-0.0006912780398081939)\n",
            "avg test time : 0.96 (+/-0.024944382578492935)\n"
          ]
        }
      ]
    },
    {
      "cell_type": "code",
      "source": [
        "cross_val = cross_validate(\n",
        "    estimator = bagging_model,\n",
        "    X = iris.data, y= iris.target,\n",
        "    cv = 5\n",
        ")\n",
        "print('avg fit time : {} (+/-{})'.format(cross_val['fit_time'].mean(), cross_val['fit_time'].std()))\n",
        "print('avg score time : {} (+/-{})'.format(cross_val['score_time'].mean(), cross_val['score_time'].std()))\n",
        "print('avg test time : {} (+/-{})'.format(cross_val['test_score'].mean(), cross_val['test_score'].std()))"
      ],
      "metadata": {
        "colab": {
          "base_uri": "https://localhost:8080/"
        },
        "id": "N0-Prx8X63rD",
        "outputId": "99dca489-2f62-480f-ffb8-3d36e732ed75"
      },
      "execution_count": 24,
      "outputs": [
        {
          "output_type": "stream",
          "name": "stdout",
          "text": [
            "avg fit time : 0.022233963012695312 (+/-0.0028689399177837375)\n",
            "avg score time : 0.007528972625732422 (+/-0.00023502177917527687)\n",
            "avg test time : 0.9400000000000001 (+/-0.024944382578492935)\n"
          ]
        }
      ]
    },
    {
      "cell_type": "markdown",
      "source": [
        "### SVC"
      ],
      "metadata": {
        "id": "CL8qlpsXTmF5"
      }
    },
    {
      "cell_type": "code",
      "source": [
        "base_model = make_pipeline(\n",
        "    StandardScaler(),\n",
        "    SVC()\n",
        ")\n",
        "\n",
        "bagging_model = BaggingClassifier(base_model, n_estimators= 10, max_samples=0.5, max_features= 0.5)"
      ],
      "metadata": {
        "id": "-9N9FUhNS3WK"
      },
      "execution_count": 30,
      "outputs": []
    },
    {
      "cell_type": "code",
      "source": [
        "cross_val = cross_validate(\n",
        "    estimator = base_model,\n",
        "    X = iris.data, y= iris.target,\n",
        "    cv = 5\n",
        ")\n",
        "print('avg fit time : {} (+/-{})'.format(cross_val['fit_time'].mean(), cross_val['fit_time'].std()))\n",
        "print('avg score time : {} (+/-{})'.format(cross_val['score_time'].mean(), cross_val['score_time'].std()))\n",
        "print('avg test time : {} (+/-{})'.format(cross_val['test_score'].mean(), cross_val['test_score'].std()))"
      ],
      "metadata": {
        "colab": {
          "base_uri": "https://localhost:8080/"
        },
        "outputId": "ee2fdb58-4b26-4d23-cedf-0ca4f9a0ecd8",
        "id": "Q2w_gLYmT-J4"
      },
      "execution_count": 31,
      "outputs": [
        {
          "output_type": "stream",
          "name": "stdout",
          "text": [
            "avg fit time : 0.0018630504608154296 (+/-0.0006326772089907584)\n",
            "avg score time : 0.0006959438323974609 (+/-0.00024767419577246706)\n",
            "avg test time : 0.9666666666666666 (+/-0.02108185106778919)\n"
          ]
        }
      ]
    },
    {
      "cell_type": "code",
      "source": [
        "cross_val = cross_validate(\n",
        "    estimator = bagging_model,\n",
        "    X = iris.data, y= iris.target,\n",
        "    cv = 5\n",
        ")\n",
        "print('avg fit time : {} (+/-{})'.format(cross_val['fit_time'].mean(), cross_val['fit_time'].std()))\n",
        "print('avg score time : {} (+/-{})'.format(cross_val['score_time'].mean(), cross_val['score_time'].std()))\n",
        "print('avg test time : {} (+/-{})'.format(cross_val['test_score'].mean(), cross_val['test_score'].std()))"
      ],
      "metadata": {
        "colab": {
          "base_uri": "https://localhost:8080/"
        },
        "outputId": "bdabea0d-e4cd-49dc-9234-26258d720ee5",
        "id": "zwmtzxMjT-J4"
      },
      "execution_count": 32,
      "outputs": [
        {
          "output_type": "stream",
          "name": "stdout",
          "text": [
            "avg fit time : 0.03096170425415039 (+/-0.003623621571349394)\n",
            "avg score time : 0.004595279693603516 (+/-0.0010437109599748982)\n",
            "avg test time : 0.9400000000000001 (+/-0.024944382578492935)\n"
          ]
        }
      ]
    },
    {
      "cell_type": "markdown",
      "source": [
        "### Decision Tree"
      ],
      "metadata": {
        "id": "E_yh7PY3UF-5"
      }
    },
    {
      "cell_type": "code",
      "source": [
        "base_model = make_pipeline(\n",
        "    StandardScaler(),\n",
        "     DecisionTreeClassifier()\n",
        ")\n",
        "\n",
        "bagging_model = BaggingClassifier(base_model, n_estimators= 10, max_samples=0.5, max_features= 0.5)"
      ],
      "metadata": {
        "id": "9QJ1ZwDtVRLw"
      },
      "execution_count": 33,
      "outputs": []
    },
    {
      "cell_type": "code",
      "source": [
        "cross_val = cross_validate(\n",
        "    estimator = base_model,\n",
        "    X = iris.data, y= iris.target,\n",
        "    cv = 5\n",
        ")\n",
        "print('avg fit time : {} (+/-{})'.format(cross_val['fit_time'].mean(), cross_val['fit_time'].std()))\n",
        "print('avg score time : {} (+/-{})'.format(cross_val['score_time'].mean(), cross_val['score_time'].std()))\n",
        "print('avg test time : {} (+/-{})'.format(cross_val['test_score'].mean(), cross_val['test_score'].std()))"
      ],
      "metadata": {
        "colab": {
          "base_uri": "https://localhost:8080/"
        },
        "outputId": "8bf17bdb-2b3d-436f-d8ae-49546445b16b",
        "id": "SgkwO9rmVRLw"
      },
      "execution_count": 34,
      "outputs": [
        {
          "output_type": "stream",
          "name": "stdout",
          "text": [
            "avg fit time : 0.001625823974609375 (+/-0.000391680885990774)\n",
            "avg score time : 0.0005529403686523437 (+/-0.00010087190011397854)\n",
            "avg test time : 0.9666666666666668 (+/-0.036514837167011066)\n"
          ]
        }
      ]
    },
    {
      "cell_type": "code",
      "source": [
        "cross_val = cross_validate(\n",
        "    estimator = bagging_model,\n",
        "    X = iris.data, y= iris.target,\n",
        "    cv = 5\n",
        ")\n",
        "print('avg fit time : {} (+/-{})'.format(cross_val['fit_time'].mean(), cross_val['fit_time'].std()))\n",
        "print('avg score time : {} (+/-{})'.format(cross_val['score_time'].mean(), cross_val['score_time'].std()))\n",
        "print('avg test time : {} (+/-{})'.format(cross_val['test_score'].mean(), cross_val['test_score'].std()))"
      ],
      "metadata": {
        "colab": {
          "base_uri": "https://localhost:8080/"
        },
        "outputId": "aca0950d-1c9a-48b5-ee55-ac975072ff3f",
        "id": "34pSJizbVRLx"
      },
      "execution_count": 35,
      "outputs": [
        {
          "output_type": "stream",
          "name": "stdout",
          "text": [
            "avg fit time : 0.02591848373413086 (+/-0.0017055771008135606)\n",
            "avg score time : 0.00274510383605957 (+/-7.676136361860828e-05)\n",
            "avg test time : 0.9533333333333334 (+/-0.03399346342395189)\n"
          ]
        }
      ]
    },
    {
      "cell_type": "markdown",
      "source": [
        "## bagging을 사용한 회귀"
      ],
      "metadata": {
        "id": "xlNPNR9CVhzt"
      }
    },
    {
      "cell_type": "code",
      "source": [
        "boston = load_boston()"
      ],
      "metadata": {
        "colab": {
          "base_uri": "https://localhost:8080/"
        },
        "id": "3g38QTpIVcVz",
        "outputId": "6eb582d9-ad7e-4a8b-afc6-83427760f40a"
      },
      "execution_count": 36,
      "outputs": [
        {
          "output_type": "stream",
          "name": "stderr",
          "text": [
            "/usr/local/lib/python3.7/dist-packages/sklearn/utils/deprecation.py:87: FutureWarning: Function load_boston is deprecated; `load_boston` is deprecated in 1.0 and will be removed in 1.2.\n",
            "\n",
            "    The Boston housing prices dataset has an ethical problem. You can refer to\n",
            "    the documentation of this function for further details.\n",
            "\n",
            "    The scikit-learn maintainers therefore strongly discourage the use of this\n",
            "    dataset unless the purpose of the code is to study and educate about\n",
            "    ethical issues in data science and machine learning.\n",
            "\n",
            "    In this special case, you can fetch the dataset from the original\n",
            "    source::\n",
            "\n",
            "        import pandas as pd\n",
            "        import numpy as np\n",
            "\n",
            "\n",
            "        data_url = \"http://lib.stat.cmu.edu/datasets/boston\"\n",
            "        raw_df = pd.read_csv(data_url, sep=\"\\s+\", skiprows=22, header=None)\n",
            "        data = np.hstack([raw_df.values[::2, :], raw_df.values[1::2, :2]])\n",
            "        target = raw_df.values[1::2, 2]\n",
            "\n",
            "    Alternative datasets include the California housing dataset (i.e.\n",
            "    :func:`~sklearn.datasets.fetch_california_housing`) and the Ames housing\n",
            "    dataset. You can load the datasets as follows::\n",
            "\n",
            "        from sklearn.datasets import fetch_california_housing\n",
            "        housing = fetch_california_housing()\n",
            "\n",
            "    for the California housing dataset and::\n",
            "\n",
            "        from sklearn.datasets import fetch_openml\n",
            "        housing = fetch_openml(name=\"house_prices\", as_frame=True)\n",
            "\n",
            "    for the Ames housing dataset.\n",
            "    \n",
            "  warnings.warn(msg, category=FutureWarning)\n"
          ]
        }
      ]
    },
    {
      "cell_type": "markdown",
      "source": [
        "### KNN"
      ],
      "metadata": {
        "id": "YSbLW2FQWXr9"
      }
    },
    {
      "cell_type": "code",
      "source": [
        "base_model= make_pipeline(\n",
        "    StandardScaler(),\n",
        "    KNeighborsRegressor()\n",
        ")\n",
        "\n",
        "bagging_model = BaggingRegressor(base_model, n_estimators= 0.5, max_features=0.5, max_samples=0.5)"
      ],
      "metadata": {
        "id": "Sm7aSRhrWVxt"
      },
      "execution_count": 38,
      "outputs": []
    },
    {
      "cell_type": "code",
      "source": [
        "cross_val = cross_validate(\n",
        "    estimator = base_model,\n",
        "    X = boston.data, y= boston.target,\n",
        "    cv = 5\n",
        ")\n",
        "print('avg fit time : {} (+/-{})'.format(cross_val['fit_time'].mean(), cross_val['fit_time'].std()))\n",
        "print('avg score time : {} (+/-{})'.format(cross_val['score_time'].mean(), cross_val['score_time'].std()))\n",
        "print('avg test time : {} (+/-{})'.format(cross_val['test_score'].mean(), cross_val['test_score'].std()))"
      ],
      "metadata": {
        "colab": {
          "base_uri": "https://localhost:8080/"
        },
        "outputId": "50335d56-de31-4c5c-e89b-3cdc632aef22",
        "id": "SwGsp-nAXGrC"
      },
      "execution_count": 39,
      "outputs": [
        {
          "output_type": "stream",
          "name": "stdout",
          "text": [
            "avg fit time : 0.0019748687744140627 (+/-0.0006024962202411055)\n",
            "avg score time : 0.002055454254150391 (+/-0.0005229840827014907)\n",
            "avg test time : 0.47357748833823543 (+/-0.13243123464477455)\n"
          ]
        }
      ]
    },
    {
      "cell_type": "code",
      "source": [
        "cross_val = cross_validate(\n",
        "    estimator = bagging_model,\n",
        "    X = boston.data, y= boston.target,\n",
        "    cv = 5\n",
        ")\n",
        "print('avg fit time : {} (+/-{})'.format(cross_val['fit_time'].mean(), cross_val['fit_time'].std()))\n",
        "print('avg score time : {} (+/-{})'.format(cross_val['score_time'].mean(), cross_val['score_time'].std()))\n",
        "print('avg test time : {} (+/-{})'.format(cross_val['test_score'].mean(), cross_val['test_score'].std()))"
      ],
      "metadata": {
        "colab": {
          "base_uri": "https://localhost:8080/"
        },
        "outputId": "b1a464ed-c377-40b9-d9b0-6b243b2ae537",
        "id": "2CrJhsmLXGrD"
      },
      "execution_count": 40,
      "outputs": [
        {
          "output_type": "stream",
          "name": "stdout",
          "text": [
            "avg fit time : 0.0005479335784912109 (+/-8.956068176545445e-05)\n",
            "avg score time : 0.0 (+/-0.0)\n",
            "avg test time : nan (+/-nan)\n"
          ]
        },
        {
          "output_type": "stream",
          "name": "stderr",
          "text": [
            "/usr/local/lib/python3.7/dist-packages/sklearn/model_selection/_validation.py:372: FitFailedWarning: \n",
            "5 fits failed out of a total of 5.\n",
            "The score on these train-test partitions for these parameters will be set to nan.\n",
            "If these failures are not expected, you can try to debug them by setting error_score='raise'.\n",
            "\n",
            "Below are more details about the failures:\n",
            "--------------------------------------------------------------------------------\n",
            "5 fits failed with the following error:\n",
            "Traceback (most recent call last):\n",
            "  File \"/usr/local/lib/python3.7/dist-packages/sklearn/model_selection/_validation.py\", line 680, in _fit_and_score\n",
            "    estimator.fit(X_train, y_train, **fit_params)\n",
            "  File \"/usr/local/lib/python3.7/dist-packages/sklearn/ensemble/_bagging.py\", line 269, in fit\n",
            "    return self._fit(X, y, self.max_samples, sample_weight=sample_weight)\n",
            "  File \"/usr/local/lib/python3.7/dist-packages/sklearn/ensemble/_bagging.py\", line 316, in _fit\n",
            "    self._validate_estimator()\n",
            "  File \"/usr/local/lib/python3.7/dist-packages/sklearn/ensemble/_bagging.py\", line 1145, in _validate_estimator\n",
            "    super()._validate_estimator(default=DecisionTreeRegressor())\n",
            "  File \"/usr/local/lib/python3.7/dist-packages/sklearn/ensemble/_base.py\", line 133, in _validate_estimator\n",
            "    type(self.n_estimators)\n",
            "ValueError: n_estimators must be an integer, got <class 'float'>.\n",
            "\n",
            "  warnings.warn(some_fits_failed_message, FitFailedWarning)\n"
          ]
        }
      ]
    },
    {
      "cell_type": "markdown",
      "source": [
        "### SVR"
      ],
      "metadata": {
        "id": "c7OaEY4DXWZ8"
      }
    },
    {
      "cell_type": "code",
      "source": [
        "base_model = make_pipeline(\n",
        "    StandardScaler(),\n",
        "    SVR()\n",
        ")\n",
        "\n",
        "bagging_model = BaggingRegressor(base_model, n_estimators= 0.5, max_features=0.5, max_samples=0.5)"
      ],
      "metadata": {
        "id": "ZJmezNIMXOBB"
      },
      "execution_count": 42,
      "outputs": []
    },
    {
      "cell_type": "code",
      "source": [
        "cross_val = cross_validate(\n",
        "    estimator = base_model,\n",
        "    X = boston.data, y= boston.target,\n",
        "    cv = 5\n",
        ")\n",
        "print('avg fit time : {} (+/-{})'.format(cross_val['fit_time'].mean(), cross_val['fit_time'].std()))\n",
        "print('avg score time : {} (+/-{})'.format(cross_val['score_time'].mean(), cross_val['score_time'].std()))\n",
        "print('avg test time : {} (+/-{})'.format(cross_val['test_score'].mean(), cross_val['test_score'].std()))"
      ],
      "metadata": {
        "colab": {
          "base_uri": "https://localhost:8080/"
        },
        "id": "f8_Z5TuRXgST",
        "outputId": "3c9f36d2-807f-4949-cebe-35a41b5e21eb"
      },
      "execution_count": 43,
      "outputs": [
        {
          "output_type": "stream",
          "name": "stdout",
          "text": [
            "avg fit time : 0.015505123138427734 (+/-0.003422754112434252)\n",
            "avg score time : 0.003603219985961914 (+/-7.327406283998971e-05)\n",
            "avg test time : 0.17631266230186618 (+/-0.5224914915128981)\n"
          ]
        }
      ]
    },
    {
      "cell_type": "code",
      "source": [
        "cross_val = cross_validate(\n",
        "    estimator = bagging_model,\n",
        "    X = boston.data, y= boston.target,\n",
        "    cv = 5\n",
        ")\n",
        "print('avg fit time : {} (+/-{})'.format(cross_val['fit_time'].mean(), cross_val['fit_time'].std()))\n",
        "print('avg score time : {} (+/-{})'.format(cross_val['score_time'].mean(), cross_val['score_time'].std()))\n",
        "print('avg test time : {} (+/-{})'.format(cross_val['test_score'].mean(), cross_val['test_score'].std()))"
      ],
      "metadata": {
        "colab": {
          "base_uri": "https://localhost:8080/"
        },
        "id": "U-owA9sCXmdL",
        "outputId": "95c57fe1-bd8a-4820-f0e6-bd3b4bc2eab8"
      },
      "execution_count": 44,
      "outputs": [
        {
          "output_type": "stream",
          "name": "stdout",
          "text": [
            "avg fit time : 0.0006783008575439453 (+/-0.00026680353573754534)\n",
            "avg score time : 0.0 (+/-0.0)\n",
            "avg test time : nan (+/-nan)\n"
          ]
        },
        {
          "output_type": "stream",
          "name": "stderr",
          "text": [
            "/usr/local/lib/python3.7/dist-packages/sklearn/model_selection/_validation.py:372: FitFailedWarning: \n",
            "5 fits failed out of a total of 5.\n",
            "The score on these train-test partitions for these parameters will be set to nan.\n",
            "If these failures are not expected, you can try to debug them by setting error_score='raise'.\n",
            "\n",
            "Below are more details about the failures:\n",
            "--------------------------------------------------------------------------------\n",
            "5 fits failed with the following error:\n",
            "Traceback (most recent call last):\n",
            "  File \"/usr/local/lib/python3.7/dist-packages/sklearn/model_selection/_validation.py\", line 680, in _fit_and_score\n",
            "    estimator.fit(X_train, y_train, **fit_params)\n",
            "  File \"/usr/local/lib/python3.7/dist-packages/sklearn/ensemble/_bagging.py\", line 269, in fit\n",
            "    return self._fit(X, y, self.max_samples, sample_weight=sample_weight)\n",
            "  File \"/usr/local/lib/python3.7/dist-packages/sklearn/ensemble/_bagging.py\", line 316, in _fit\n",
            "    self._validate_estimator()\n",
            "  File \"/usr/local/lib/python3.7/dist-packages/sklearn/ensemble/_bagging.py\", line 1145, in _validate_estimator\n",
            "    super()._validate_estimator(default=DecisionTreeRegressor())\n",
            "  File \"/usr/local/lib/python3.7/dist-packages/sklearn/ensemble/_base.py\", line 133, in _validate_estimator\n",
            "    type(self.n_estimators)\n",
            "ValueError: n_estimators must be an integer, got <class 'float'>.\n",
            "\n",
            "  warnings.warn(some_fits_failed_message, FitFailedWarning)\n"
          ]
        }
      ]
    },
    {
      "cell_type": "markdown",
      "source": [
        "### Decision Tree"
      ],
      "metadata": {
        "id": "DYnBO6rtXwsT"
      }
    },
    {
      "cell_type": "code",
      "source": [
        "base_model = make_pipeline(\n",
        "    StandardScaler(),\n",
        "    DecisionTreeRegressor()\n",
        ")\n",
        "\n",
        "bagging_model = BaggingRegressor(base_model, n_estimators= 0.5, max_features=0.5, max_samples=0.5)"
      ],
      "metadata": {
        "id": "GwhIJnHPX4LK"
      },
      "execution_count": 45,
      "outputs": []
    },
    {
      "cell_type": "code",
      "source": [
        "cross_val = cross_validate(\n",
        "    estimator = base_model,\n",
        "    X = boston.data, y= boston.target,\n",
        "    cv = 5\n",
        ")\n",
        "print('avg fit time : {} (+/-{})'.format(cross_val['fit_time'].mean(), cross_val['fit_time'].std()))\n",
        "print('avg score time : {} (+/-{})'.format(cross_val['score_time'].mean(), cross_val['score_time'].std()))\n",
        "print('avg test time : {} (+/-{})'.format(cross_val['test_score'].mean(), cross_val['test_score'].std()))"
      ],
      "metadata": {
        "colab": {
          "base_uri": "https://localhost:8080/"
        },
        "outputId": "46d911c7-8055-4211-c8fb-8934eb3e565d",
        "id": "TX1apcTTX4LL"
      },
      "execution_count": 46,
      "outputs": [
        {
          "output_type": "stream",
          "name": "stdout",
          "text": [
            "avg fit time : 0.004227399826049805 (+/-0.0004279046167156929)\n",
            "avg score time : 0.0005590438842773438 (+/-4.485930307182445e-05)\n",
            "avg test time : 0.14069040120085247 (+/-0.8014834011527564)\n"
          ]
        }
      ]
    },
    {
      "cell_type": "code",
      "source": [
        "cross_val = cross_validate(\n",
        "    estimator = bagging_model,\n",
        "    X = boston.data, y= boston.target,\n",
        "    cv = 5\n",
        ")\n",
        "print('avg fit time : {} (+/-{})'.format(cross_val['fit_time'].mean(), cross_val['fit_time'].std()))\n",
        "print('avg score time : {} (+/-{})'.format(cross_val['score_time'].mean(), cross_val['score_time'].std()))\n",
        "print('avg test time : {} (+/-{})'.format(cross_val['test_score'].mean(), cross_val['test_score'].std()))"
      ],
      "metadata": {
        "colab": {
          "base_uri": "https://localhost:8080/"
        },
        "outputId": "972d8f95-cfd1-446e-e555-68de8d8bafb8",
        "id": "RBJZRl3DX4LL"
      },
      "execution_count": 47,
      "outputs": [
        {
          "output_type": "stream",
          "name": "stdout",
          "text": [
            "avg fit time : 0.0011608600616455078 (+/-0.0013560226743281533)\n",
            "avg score time : 0.0 (+/-0.0)\n",
            "avg test time : nan (+/-nan)\n"
          ]
        },
        {
          "output_type": "stream",
          "name": "stderr",
          "text": [
            "/usr/local/lib/python3.7/dist-packages/sklearn/model_selection/_validation.py:372: FitFailedWarning: \n",
            "5 fits failed out of a total of 5.\n",
            "The score on these train-test partitions for these parameters will be set to nan.\n",
            "If these failures are not expected, you can try to debug them by setting error_score='raise'.\n",
            "\n",
            "Below are more details about the failures:\n",
            "--------------------------------------------------------------------------------\n",
            "5 fits failed with the following error:\n",
            "Traceback (most recent call last):\n",
            "  File \"/usr/local/lib/python3.7/dist-packages/sklearn/model_selection/_validation.py\", line 680, in _fit_and_score\n",
            "    estimator.fit(X_train, y_train, **fit_params)\n",
            "  File \"/usr/local/lib/python3.7/dist-packages/sklearn/ensemble/_bagging.py\", line 269, in fit\n",
            "    return self._fit(X, y, self.max_samples, sample_weight=sample_weight)\n",
            "  File \"/usr/local/lib/python3.7/dist-packages/sklearn/ensemble/_bagging.py\", line 316, in _fit\n",
            "    self._validate_estimator()\n",
            "  File \"/usr/local/lib/python3.7/dist-packages/sklearn/ensemble/_bagging.py\", line 1145, in _validate_estimator\n",
            "    super()._validate_estimator(default=DecisionTreeRegressor())\n",
            "  File \"/usr/local/lib/python3.7/dist-packages/sklearn/ensemble/_base.py\", line 133, in _validate_estimator\n",
            "    type(self.n_estimators)\n",
            "ValueError: n_estimators must be an integer, got <class 'float'>.\n",
            "\n",
            "  warnings.warn(some_fits_failed_message, FitFailedWarning)\n"
          ]
        }
      ]
    },
    {
      "cell_type": "markdown",
      "source": [
        "# Forests of randomized trees\n",
        "* RandomForest, Extra-Trees\n",
        "* 모델 구성에 임의성을 추가해 다양한 모델 집합이 생성\n",
        "* 앙상블 모델의 예측은 각 모델의 평균"
      ],
      "metadata": {
        "id": "ZJQNmaAgYO3G"
      }
    },
    {
      "cell_type": "code",
      "source": [
        "from sklearn.ensemble import RandomForestClassifier, ExtraTreesClassifier\n",
        "from sklearn.ensemble import RandomForestRegressor, ExtraTreesRegressor"
      ],
      "metadata": {
        "id": "8CHYe3QSX7Q8"
      },
      "execution_count": 48,
      "outputs": []
    },
    {
      "cell_type": "markdown",
      "source": [
        "## Random Forests 분류"
      ],
      "metadata": {
        "id": "fxjnbYITaqTl"
      }
    },
    {
      "cell_type": "code",
      "source": [
        "model = make_pipeline(\n",
        "    StandardScaler(),\n",
        "    RandomForestClassifier()\n",
        ")"
      ],
      "metadata": {
        "id": "o6yH-_5paoA0"
      },
      "execution_count": 53,
      "outputs": []
    },
    {
      "cell_type": "code",
      "source": [
        "cross_val = cross_validate(\n",
        "    estimator = model,\n",
        "    X = iris.data, y= iris.target,\n",
        "    cv = 5\n",
        ")\n",
        "print('avg fit time : {} (+/-{})'.format(cross_val['fit_time'].mean(), cross_val['fit_time'].std()))\n",
        "print('avg score time : {} (+/-{})'.format(cross_val['score_time'].mean(), cross_val['score_time'].std()))\n",
        "print('avg test time : {} (+/-{})'.format(cross_val['test_score'].mean(), cross_val['test_score'].std()))"
      ],
      "metadata": {
        "colab": {
          "base_uri": "https://localhost:8080/"
        },
        "outputId": "d1ec98db-f334-4793-dc3e-6d063aeb7935",
        "id": "ZcBy4vgHa7LK"
      },
      "execution_count": 54,
      "outputs": [
        {
          "output_type": "stream",
          "name": "stdout",
          "text": [
            "avg fit time : 0.13961472511291503 (+/-0.007705253423552359)\n",
            "avg score time : 0.010453462600708008 (+/-0.0004862350377830925)\n",
            "avg test time : 0.96 (+/-0.024944382578492935)\n"
          ]
        }
      ]
    },
    {
      "cell_type": "markdown",
      "source": [
        "## Random Forests 회귀"
      ],
      "metadata": {
        "id": "BZQZ8w8IbKwD"
      }
    },
    {
      "cell_type": "code",
      "source": [
        "model = make_pipeline(\n",
        "    StandardScaler(),\n",
        "    RandomForestRegressor()\n",
        ")"
      ],
      "metadata": {
        "id": "NGsvOffWbOZK"
      },
      "execution_count": 55,
      "outputs": []
    },
    {
      "cell_type": "code",
      "source": [
        "cross_val = cross_validate(\n",
        "    estimator = model,\n",
        "    X = iris.data, y= iris.target,\n",
        "    cv = 5\n",
        ")\n",
        "print('avg fit time : {} (+/-{})'.format(cross_val['fit_time'].mean(), cross_val['fit_time'].std()))\n",
        "print('avg score time : {} (+/-{})'.format(cross_val['score_time'].mean(), cross_val['score_time'].std()))\n",
        "print('avg test time : {} (+/-{})'.format(cross_val['test_score'].mean(), cross_val['test_score'].std()))"
      ],
      "metadata": {
        "colab": {
          "base_uri": "https://localhost:8080/"
        },
        "outputId": "24e1e05d-797d-443e-dc7b-1c0c17c14398",
        "id": "Ur7lgABAbOZK"
      },
      "execution_count": 56,
      "outputs": [
        {
          "output_type": "stream",
          "name": "stdout",
          "text": [
            "avg fit time : 0.12002243995666503 (+/-0.006781763922296063)\n",
            "avg score time : 0.009777402877807618 (+/-0.003133289537869467)\n",
            "avg test time : 0.5494619999999999 (+/-0.4567505284134874)\n"
          ]
        }
      ]
    },
    {
      "cell_type": "markdown",
      "source": [
        "## Extremely Randomized Trees 분류"
      ],
      "metadata": {
        "id": "EPCVve6UbZlw"
      }
    },
    {
      "cell_type": "code",
      "source": [
        "model = make_pipeline(\n",
        "    StandardScaler(),\n",
        "    ExtraTreesClassifier()\n",
        ")"
      ],
      "metadata": {
        "id": "TyCYYXKybWEM"
      },
      "execution_count": 57,
      "outputs": []
    },
    {
      "cell_type": "code",
      "source": [
        "cross_val = cross_validate(\n",
        "    estimator = model,\n",
        "    X = iris.data, y= iris.target,\n",
        "    cv = 5\n",
        ")\n",
        "print('avg fit time : {} (+/-{})'.format(cross_val['fit_time'].mean(), cross_val['fit_time'].std()))\n",
        "print('avg score time : {} (+/-{})'.format(cross_val['score_time'].mean(), cross_val['score_time'].std()))\n",
        "print('avg test time : {} (+/-{})'.format(cross_val['test_score'].mean(), cross_val['test_score'].std()))"
      ],
      "metadata": {
        "colab": {
          "base_uri": "https://localhost:8080/"
        },
        "id": "uePJI_iBdp_O",
        "outputId": "9ef000c1-60f6-4555-b79d-7bfebbe98832"
      },
      "execution_count": 58,
      "outputs": [
        {
          "output_type": "stream",
          "name": "stdout",
          "text": [
            "avg fit time : 0.10042715072631836 (+/-0.003974257852984643)\n",
            "avg score time : 0.010278749465942382 (+/-5.64038901529068e-05)\n",
            "avg test time : 0.9533333333333334 (+/-0.03399346342395189)\n"
          ]
        }
      ]
    },
    {
      "cell_type": "markdown",
      "source": [
        "## Extremely Randomized Trees 회귀"
      ],
      "metadata": {
        "id": "oGvPxsWsdusb"
      }
    },
    {
      "cell_type": "code",
      "source": [
        "model = make_pipeline(\n",
        "    StandardScaler(),\n",
        "    ExtraTreesRegressor()\n",
        ")"
      ],
      "metadata": {
        "id": "TnVDlJNCd7m-"
      },
      "execution_count": 59,
      "outputs": []
    },
    {
      "cell_type": "code",
      "source": [
        "cross_val = cross_validate(\n",
        "    estimator = model,\n",
        "    X = iris.data, y= iris.target,\n",
        "    cv = 5\n",
        ")\n",
        "print('avg fit time : {} (+/-{})'.format(cross_val['fit_time'].mean(), cross_val['fit_time'].std()))\n",
        "print('avg score time : {} (+/-{})'.format(cross_val['score_time'].mean(), cross_val['score_time'].std()))\n",
        "print('avg test time : {} (+/-{})'.format(cross_val['test_score'].mean(), cross_val['test_score'].std()))"
      ],
      "metadata": {
        "colab": {
          "base_uri": "https://localhost:8080/"
        },
        "outputId": "37d55f98-1f60-4800-c332-8f5b964181b5",
        "id": "gJ7MFoeBd7m-"
      },
      "execution_count": 60,
      "outputs": [
        {
          "output_type": "stream",
          "name": "stdout",
          "text": [
            "avg fit time : 0.0825108528137207 (+/-0.0031194792308238566)\n",
            "avg score time : 0.008849287033081054 (+/-0.0004771330535252697)\n",
            "avg test time : 0.356032 (+/-0.4408627559978275)\n"
          ]
        }
      ]
    },
    {
      "cell_type": "markdown",
      "source": [
        "## Random Forest, Extra Tree 시각화"
      ],
      "metadata": {
        "id": "iftc-IpKeHzC"
      }
    },
    {
      "cell_type": "code",
      "source": [
        "import numpy as np\n",
        "import matplotlib.pyplot as plt\n",
        "plt.style.use(['seaborn-whitegrid'])\n",
        "from matplotlib.colors import ListedColormap\n",
        "from sklearn.tree import DecisionTreeClassifier"
      ],
      "metadata": {
        "id": "cnq_f3rweASG"
      },
      "execution_count": 101,
      "outputs": []
    },
    {
      "cell_type": "code",
      "source": [
        "n_classes = 5\n",
        "n_estimators =30\n",
        "cmap = plt.cm.RdYlBu\n",
        "plot_step = 0.02\n",
        "plot_step_coarser = 0.5\n",
        "RANDOM_SEED = 13"
      ],
      "metadata": {
        "id": "m4CLuHTAerIc"
      },
      "execution_count": 102,
      "outputs": []
    },
    {
      "cell_type": "code",
      "source": [
        "iris = load_iris()\n",
        "plot_idx = 1\n",
        "models =[DecisionTreeClassifier(max_depth= None),\n",
        "         RandomForestClassifier(n_estimators= n_estimators),\n",
        "         ExtraTreesClassifier(n_estimators=n_estimators)]"
      ],
      "metadata": {
        "id": "ni556iYmfDZd"
      },
      "execution_count": 103,
      "outputs": []
    },
    {
      "cell_type": "code",
      "source": [
        "plt.figure(figsize = (16,8))\n",
        "\n",
        "for pair in ([0,1],[0,2],[2,3]):\n",
        "  \n",
        "  for model in models:\n",
        "    \n",
        "    X = iris.data[:, pair]\n",
        "    y = iris.target\n",
        "\n",
        "    idx = np.arange(X.shape[0])\n",
        "    np.random.seed(RANDOM_SEED)\n",
        "    np.random.shuffle(idx)\n",
        "\n",
        "    X = X[idx]\n",
        "    y = y[idx]\n",
        "\n",
        "    mean = X.mean(axis = 0)\n",
        "    std = X.std(axis = 0)\n",
        "    X = (X-mean) / std\n",
        "\n",
        "    model.fit(X, y)\n",
        "\n",
        "    model_title = str(type(model)).split('.')[-1][:-2][:-len('Classifier')]\n",
        "\n",
        "    plt.subplot(3,3, plot_idx)\n",
        "    if plot_idx <= len(models):\n",
        "      plt.title(model_title, fontsize = 9)\n",
        "    x_min, x_max = X[:,0].min()-1, X[:,0].max()+1\n",
        "    y_min, y_max = X[:,1].min()-1, X[:,1].max()+1\n",
        "    xx, yy = np.meshgrid(np.arange(x_min , x_max, plot_step),\n",
        "                         np.arange(y_min, y_max, plot_step))\n",
        "    \n",
        "    if isinstance(model, DecisionTreeClassifier):\n",
        "      Z = model.predict(np.c_[xx.ravel(), yy.ravel()])\n",
        "      Z = Z.reshape(xx.shape)\n",
        "      cs = plt.contourf(xx, yy, Z, camp = cmap)\n",
        "    else:\n",
        "      estimator_alpha = 1.0 /len(model.estimators_)\n",
        "      for tree in model.estimators_:\n",
        "        Z = model.predict(np.c_[xx.ravel(), yy.ravel()])\n",
        "        Z = Z.reshape(xx.shape)\n",
        "        cs = plt.contour(xx, yy, Z ,alpha = estimator_alpha, camp = cmap)\n",
        "    xx_coarser, yy_coarser = np.meshgrid(np.arange(x_min, x_max, plot_step_coarser),\n",
        "                                         np.arange(y_min, y_max, plot_step_coarser))\n",
        "    Z_points_coarser = model.predict(np.c_[xx_coarser.ravel(), yy_coarser.ravel()]).reshape(xx_coarser.shape)\n",
        "    cs_points = plt.scatter(xx_coarser, yy_coarser, s = 15,\n",
        "                            c = Z_points_coarser, cmap = cmap,\n",
        "                            edgecolor = 'none')\n",
        "    plt.scatter(X[:, 0], X[:, 1], c =y,\n",
        "                cmap = ListedColormap(['r','y','b']),\n",
        "                edgecolor ='k', s= 20)\n",
        "    plot_idx += 1\n",
        "plt.suptitle('Classifiers', fontsize= 12)\n",
        "plt.axis('tight')\n",
        "plt.tight_layout(h_pad = 0.2, w_pad = 0.2, pad = 2.5)\n",
        "plt.show()"
      ],
      "metadata": {
        "id": "Y3Pr3MuOgDxv"
      },
      "execution_count": null,
      "outputs": []
    },
    {
      "cell_type": "code",
      "source": [
        "plot_idx = 1\n",
        "models = [DecisionTreeRegressor(max_depth = None),\n",
        "          RandomForestRegressor(n_estimators= n_estimators),\n",
        "          ExtraTreesRegressor(n_estimators=n_estimators)]"
      ],
      "metadata": {
        "id": "uTnWLjE_gIeY"
      },
      "execution_count": 121,
      "outputs": []
    },
    {
      "cell_type": "code",
      "source": [
        "plt.figure(figsize = (16,8))\n",
        "\n",
        "for pair in (0, 1, 2):\n",
        "  \n",
        "  for model in models:\n",
        "    \n",
        "    X = iris.data[:, pair]\n",
        "    y = iris.target\n",
        "\n",
        "    idx = np.arange(X.shape[0])\n",
        "    np.random.seed(RANDOM_SEED)\n",
        "    np.random.shuffle(idx)\n",
        "\n",
        "    X = X[idx]\n",
        "    y = y[idx]\n",
        "\n",
        "    mean = X.mean(axis = 0)\n",
        "    std = X.std(axis = 0)\n",
        "    X = (X-mean) / std\n",
        "\n",
        "    model.fit(X.reshape(-1,1), y)\n",
        "\n",
        "    model_title = str(type(model)).split('.')[-1][:-2][:-len('Classifier')]\n",
        "\n",
        "    plt.subplot(3,3, plot_idx)\n",
        "    if plot_idx <= len(models):\n",
        "      plt.title(model_title, fontsize = 9)\n",
        "\n",
        "    x_min, x_max = X.min()-1, X.max()+1\n",
        "    y_min, y_max = y.min()-1, y.max()+1\n",
        "    xx, yy = np.arange(x_min-1 , x_max+1, plot_step),np.arange(y_min-1, y_max+1, plot_step)\n",
        "    \n",
        "    if isinstance(model, DecisionTreeRegressor):\n",
        "      Z = model.predict(xx.reshape(-1,1))\n",
        "      cs = plt.plot(xx,Z)\n",
        "    else:\n",
        "      estimator_alpha = 1.0 /len(model.estimators_)\n",
        "      for tree in model.estimators_:\n",
        "        Z = model.predict(xx.reshape(-1,1))\n",
        "        cs = plt.plot(xx, Z ,alpha = estimator_alpha)\n",
        "\n",
        "    plt.scatter(X, y,\n",
        "                edgecolor ='k', s= 20)\n",
        "    plot_idx += 1\n",
        "plt.suptitle('Regressor', fontsize= 12)\n",
        "plt.axis('tight')\n",
        "plt.tight_layout(h_pad = 0.2, w_pad = 0.2, pad = 2.5)\n",
        "plt.show()"
      ],
      "metadata": {
        "colab": {
          "base_uri": "https://localhost:8080/",
          "height": 570
        },
        "id": "zGL6wefkvtt6",
        "outputId": "b30c022a-837a-467a-c147-23ca43748270"
      },
      "execution_count": 122,
      "outputs": [
        {
          "output_type": "display_data",
          "data": {
            "image/png": "[encoded data removed]",
            "text/plain": [
              "<Figure size 1152x576 with 9 Axes>"
            ]
          },
          "metadata": {}
        }
      ]
    },
    {
      "cell_type": "markdown",
      "source": [
        "# Adaboost\n",
        "* 일련의 약한 모델들을 학습\n",
        "* 가중치 투표를 통해 각 모델의 예측 값을 결합"
      ],
      "metadata": {
        "id": "AMXPfWfTzx9i"
      }
    },
    {
      "cell_type": "code",
      "source": [
        "from sklearn.ensemble import AdaBoostClassifier\n",
        "from sklearn.ensemble import AdaBoostRegressor"
      ],
      "metadata": {
        "id": "nRmqUcC0wwmO"
      },
      "execution_count": 123,
      "outputs": []
    },
    {
      "cell_type": "markdown",
      "source": [
        "## Adaboost 분류"
      ],
      "metadata": {
        "id": "fJI1qt6C0OKa"
      }
    },
    {
      "cell_type": "code",
      "source": [
        "model =make_pipeline(\n",
        "    StandardScaler(), \n",
        "    AdaBoostClassifier()\n",
        ")"
      ],
      "metadata": {
        "id": "TJOxXCcT0NZI"
      },
      "execution_count": 124,
      "outputs": []
    },
    {
      "cell_type": "code",
      "source": [
        "cross_val = cross_validate(\n",
        "    estimator = model,\n",
        "    X = iris.data, y= iris.target,\n",
        "    cv = 5\n",
        ")\n",
        "print('avg fit time : {} (+/-{})'.format(cross_val['fit_time'].mean(), cross_val['fit_time'].std()))\n",
        "print('avg score time : {} (+/-{})'.format(cross_val['score_time'].mean(), cross_val['score_time'].std()))\n",
        "print('avg test time : {} (+/-{})'.format(cross_val['test_score'].mean(), cross_val['test_score'].std()))"
      ],
      "metadata": {
        "colab": {
          "base_uri": "https://localhost:8080/"
        },
        "id": "W0ZkOwUm0YkG",
        "outputId": "a71e2c80-4dee-4e17-ea15-c05eb872b215"
      },
      "execution_count": 125,
      "outputs": [
        {
          "output_type": "stream",
          "name": "stdout",
          "text": [
            "avg fit time : 0.06887187957763671 (+/-0.002969116031383495)\n",
            "avg score time : 0.007374477386474609 (+/-0.0002704342920683831)\n",
            "avg test time : 0.9466666666666667 (+/-0.03399346342395189)\n"
          ]
        }
      ]
    },
    {
      "cell_type": "markdown",
      "source": [
        "## Adaboost 회귀"
      ],
      "metadata": {
        "id": "tSVv_mei0lt1"
      }
    },
    {
      "cell_type": "code",
      "source": [
        "model =make_pipeline(\n",
        "    StandardScaler(), \n",
        "    AdaBoostRegressor()\n",
        ")"
      ],
      "metadata": {
        "id": "vqYklIjc0jn_"
      },
      "execution_count": 126,
      "outputs": []
    },
    {
      "cell_type": "code",
      "source": [
        "cross_val = cross_validate(\n",
        "    estimator = model,\n",
        "    X = iris.data, y= iris.target,\n",
        "    cv = 5\n",
        ")\n",
        "print('avg fit time : {} (+/-{})'.format(cross_val['fit_time'].mean(), cross_val['fit_time'].std()))\n",
        "print('avg score time : {} (+/-{})'.format(cross_val['score_time'].mean(), cross_val['score_time'].std()))\n",
        "print('avg test time : {} (+/-{})'.format(cross_val['test_score'].mean(), cross_val['test_score'].std()))"
      ],
      "metadata": {
        "colab": {
          "base_uri": "https://localhost:8080/"
        },
        "id": "_BtaGCOf0oao",
        "outputId": "e3fbcbf1-b9fe-42e9-c729-d1a371b2e7c5"
      },
      "execution_count": 127,
      "outputs": [
        {
          "output_type": "stream",
          "name": "stdout",
          "text": [
            "avg fit time : 0.014809942245483399 (+/-0.008846341654328656)\n",
            "avg score time : 0.001324605941772461 (+/-0.0005216853573158345)\n",
            "avg test time : 0.5385162840136054 (+/-0.4528176089166919)\n"
          ]
        }
      ]
    },
    {
      "cell_type": "markdown",
      "source": [
        "# Gradient Tree Boosting"
      ],
      "metadata": {
        "id": "-7T2_pjw0zLd"
      }
    },
    {
      "cell_type": "code",
      "source": [
        "from sklearn.ensemble import GradientBoostingClassifier\n",
        "from sklearn.ensemble import GradientBoostingRegressor"
      ],
      "metadata": {
        "id": "0HbYs8IM082M"
      },
      "execution_count": 128,
      "outputs": []
    },
    {
      "cell_type": "markdown",
      "source": [
        "## Gradient Tree Boosting 분류"
      ],
      "metadata": {
        "id": "VvjL3iET09FZ"
      }
    },
    {
      "cell_type": "code",
      "source": [
        "model =make_pipeline(\n",
        "    StandardScaler(), \n",
        "    GradientBoostingClassifier()\n",
        ")"
      ],
      "metadata": {
        "id": "WEYy2Hej1G1V"
      },
      "execution_count": 129,
      "outputs": []
    },
    {
      "cell_type": "code",
      "source": [
        "cross_val = cross_validate(\n",
        "    estimator = model,\n",
        "    X = iris.data, y= iris.target,\n",
        "    cv = 5\n",
        ")\n",
        "print('avg fit time : {} (+/-{})'.format(cross_val['fit_time'].mean(), cross_val['fit_time'].std()))\n",
        "print('avg score time : {} (+/-{})'.format(cross_val['score_time'].mean(), cross_val['score_time'].std()))\n",
        "print('avg test time : {} (+/-{})'.format(cross_val['test_score'].mean(), cross_val['test_score'].std()))"
      ],
      "metadata": {
        "colab": {
          "base_uri": "https://localhost:8080/"
        },
        "outputId": "bc129d54-b1c0-4d72-9763-be4bab7a859f",
        "id": "v5YPEo-X1G1W"
      },
      "execution_count": 130,
      "outputs": [
        {
          "output_type": "stream",
          "name": "stdout",
          "text": [
            "avg fit time : 0.2158360481262207 (+/-0.007645768744028289)\n",
            "avg score time : 0.0011621952056884766 (+/-5.992737184773081e-05)\n",
            "avg test time : 0.9666666666666668 (+/-0.02108185106778919)\n"
          ]
        }
      ]
    },
    {
      "cell_type": "markdown",
      "source": [
        "## Gradient Tree Boosting 회귀"
      ],
      "metadata": {
        "id": "U9VIW-OT1J09"
      }
    },
    {
      "cell_type": "code",
      "source": [
        "model =make_pipeline(\n",
        "    StandardScaler(), \n",
        "    GradientBoostingRegressor()\n",
        ")"
      ],
      "metadata": {
        "id": "t01B0qTi1N0U"
      },
      "execution_count": 131,
      "outputs": []
    },
    {
      "cell_type": "code",
      "source": [
        "cross_val = cross_validate(\n",
        "    estimator = model,\n",
        "    X = iris.data, y= iris.target,\n",
        "    cv = 5\n",
        ")\n",
        "print('avg fit time : {} (+/-{})'.format(cross_val['fit_time'].mean(), cross_val['fit_time'].std()))\n",
        "print('avg score time : {} (+/-{})'.format(cross_val['score_time'].mean(), cross_val['score_time'].std()))\n",
        "print('avg test time : {} (+/-{})'.format(cross_val['test_score'].mean(), cross_val['test_score'].std()))"
      ],
      "metadata": {
        "colab": {
          "base_uri": "https://localhost:8080/"
        },
        "outputId": "969dec11-f449-42cf-df16-6a130ec8002f",
        "id": "1diuUhXP1N0V"
      },
      "execution_count": 132,
      "outputs": [
        {
          "output_type": "stream",
          "name": "stdout",
          "text": [
            "avg fit time : 0.03188886642456055 (+/-0.0015503090666137902)\n",
            "avg score time : 0.0007873058319091796 (+/-3.4825895783579806e-05)\n",
            "avg test time : 0.31277054933427645 (+/-0.40027399240018874)\n"
          ]
        }
      ]
    },
    {
      "cell_type": "code",
      "source": [
        ""
      ],
      "metadata": {
        "id": "cGmZjVuT1QWR"
      },
      "execution_count": null,
      "outputs": []
    }
  ]
}