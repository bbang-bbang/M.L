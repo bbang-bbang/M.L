{
  "nbformat": 4,
  "nbformat_minor": 0,
  "metadata": {
    "colab": {
      "name": "(2022_01_26)추천 시스템.ipynb",
      "provenance": [],
      "collapsed_sections": [
        "KFEqQE2PRKri"
      ]
    },
    "kernelspec": {
      "name": "python3",
      "display_name": "Python 3"
    },
    "language_info": {
      "name": "python"
    },
    "accelerator": "GPU"
  },
  "cells": [
    {
      "cell_type": "markdown",
      "source": [
        "# 추천 시스템\n",
        "* 컨텐츠 기반 필터링\n",
        "* 협업 필터링"
      ],
      "metadata": {
        "id": "KFEqQE2PRKri"
      }
    },
    {
      "cell_type": "markdown",
      "source": [
        "# Surprise\n",
        "* 추천 시스템 개발을 위한 라이브러리"
      ],
      "metadata": {
        "id": "BjBSrKnORTQ4"
      }
    },
    {
      "cell_type": "code",
      "execution_count": 1,
      "metadata": {
        "colab": {
          "base_uri": "https://localhost:8080/"
        },
        "id": "AeDFQztTFmSE",
        "outputId": "517e5ad6-5de2-42d3-c472-cf3d1795ea82"
      },
      "outputs": [
        {
          "output_type": "stream",
          "name": "stdout",
          "text": [
            "Collecting scikit-surprise\n",
            "  Downloading scikit-surprise-1.1.1.tar.gz (11.8 MB)\n",
            "\u001b[K     |████████████████████████████████| 11.8 MB 1.2 MB/s \n",
            "\u001b[?25hRequirement already satisfied: joblib>=0.11 in /usr/local/lib/python3.7/dist-packages (from scikit-surprise) (1.1.0)\n",
            "Requirement already satisfied: numpy>=1.11.2 in /usr/local/lib/python3.7/dist-packages (from scikit-surprise) (1.19.5)\n",
            "Requirement already satisfied: scipy>=1.0.0 in /usr/local/lib/python3.7/dist-packages (from scikit-surprise) (1.4.1)\n",
            "Requirement already satisfied: six>=1.10.0 in /usr/local/lib/python3.7/dist-packages (from scikit-surprise) (1.15.0)\n",
            "Building wheels for collected packages: scikit-surprise\n",
            "  Building wheel for scikit-surprise (setup.py) ... \u001b[?25l\u001b[?25hdone\n",
            "  Created wheel for scikit-surprise: filename=scikit_surprise-1.1.1-cp37-cp37m-linux_x86_64.whl size=1623224 sha256=1cd8c04d10776c7b6db44eafa1d6aa5eee6130409e16a144639a0f32e9f84a71\n",
            "  Stored in directory: /root/.cache/pip/wheels/76/44/74/b498c42be47b2406bd27994e16c5188e337c657025ab400c1c\n",
            "Successfully built scikit-surprise\n",
            "Installing collected packages: scikit-surprise\n",
            "Successfully installed scikit-surprise-1.1.1\n"
          ]
        }
      ],
      "source": [
        "!pip install scikit-surprise"
      ]
    },
    {
      "cell_type": "code",
      "source": [
        "from surprise import SVD\n",
        "from surprise import Dataset\n",
        "from surprise.model_selection import cross_validate"
      ],
      "metadata": {
        "id": "Kz-L6zJ-Rkp6"
      },
      "execution_count": 2,
      "outputs": []
    },
    {
      "cell_type": "code",
      "source": [
        "data = Dataset.load_builtin('ml-100k', prompt = False)\n",
        "data.raw_ratings[:10]"
      ],
      "metadata": {
        "colab": {
          "base_uri": "https://localhost:8080/"
        },
        "id": "gZbi7HTCRvYh",
        "outputId": "837cf8f3-0cee-4627-b113-48a0a3acc50b"
      },
      "execution_count": 3,
      "outputs": [
        {
          "output_type": "stream",
          "name": "stdout",
          "text": [
            "Trying to download dataset from http://files.grouplens.org/datasets/movielens/ml-100k.zip...\n",
            "Done! Dataset ml-100k has been saved to /root/.surprise_data/ml-100k\n"
          ]
        },
        {
          "output_type": "execute_result",
          "data": {
            "text/plain": [
              "[('196', '242', 3.0, '881250949'),\n",
              " ('186', '302', 3.0, '891717742'),\n",
              " ('22', '377', 1.0, '878887116'),\n",
              " ('244', '51', 2.0, '880606923'),\n",
              " ('166', '346', 1.0, '886397596'),\n",
              " ('298', '474', 4.0, '884182806'),\n",
              " ('115', '265', 2.0, '881171488'),\n",
              " ('253', '465', 5.0, '891628467'),\n",
              " ('305', '451', 3.0, '886324817'),\n",
              " ('6', '86', 3.0, '883603013')]"
            ]
          },
          "metadata": {},
          "execution_count": 3
        }
      ]
    },
    {
      "cell_type": "code",
      "source": [
        "model = SVD()\n"
      ],
      "metadata": {
        "id": "pQwYBBCtSBAq"
      },
      "execution_count": 4,
      "outputs": []
    },
    {
      "cell_type": "code",
      "source": [
        "cross_validate(model, data, measures = ['rmse', 'mae'], cv = 5, verbose = True)"
      ],
      "metadata": {
        "colab": {
          "base_uri": "https://localhost:8080/"
        },
        "id": "hmXdE-_xSWo6",
        "outputId": "1ab5ac1d-058a-40ec-dcbb-25ceecca3eab"
      },
      "execution_count": 5,
      "outputs": [
        {
          "output_type": "stream",
          "name": "stdout",
          "text": [
            "Evaluating RMSE, MAE of algorithm SVD on 5 split(s).\n",
            "\n",
            "                  Fold 1  Fold 2  Fold 3  Fold 4  Fold 5  Mean    Std     \n",
            "RMSE (testset)    0.9425  0.9358  0.9403  0.9330  0.9278  0.9359  0.0052  \n",
            "MAE (testset)     0.7419  0.7407  0.7408  0.7347  0.7323  0.7381  0.0038  \n",
            "Fit time          4.80    7.03    5.77    5.12    4.27    5.40    0.95    \n",
            "Test time         0.39    0.15    0.24    0.18    0.19    0.23    0.08    \n"
          ]
        },
        {
          "output_type": "execute_result",
          "data": {
            "text/plain": [
              "{'fit_time': (4.796828031539917,\n",
              "  7.0259318351745605,\n",
              "  5.765401840209961,\n",
              "  5.116170406341553,\n",
              "  4.270819664001465),\n",
              " 'test_mae': array([0.7418925 , 0.74073523, 0.74083019, 0.7346977 , 0.73229092]),\n",
              " 'test_rmse': array([0.94245207, 0.93580898, 0.94026854, 0.93303782, 0.92778929]),\n",
              " 'test_time': (0.387096643447876,\n",
              "  0.14985132217407227,\n",
              "  0.2426133155822754,\n",
              "  0.17836332321166992,\n",
              "  0.18712472915649414)}"
            ]
          },
          "metadata": {},
          "execution_count": 5
        }
      ]
    },
    {
      "cell_type": "markdown",
      "source": [
        "# 컨텐츠 기반 필터링\n",
        "* 컨텐츠 기반 필터링은 이전의 행동과 명시적 피드백을 통해 좋아하는 것과 유사한 항목을 추천\n",
        "* 유사도를 기반"
      ],
      "metadata": {
        "id": "EEwF10CNSz-i"
      }
    },
    {
      "cell_type": "code",
      "source": [
        "import numpy as np\n",
        "from surprise import Dataset"
      ],
      "metadata": {
        "id": "QupdMDKoShZS"
      },
      "execution_count": 6,
      "outputs": []
    },
    {
      "cell_type": "code",
      "source": [
        "data = Dataset.load_builtin('ml-100k', prompt= True)\n",
        "raw_data = np.array(data.raw_ratings, dtype = int)"
      ],
      "metadata": {
        "id": "2vC6snlbTRUC"
      },
      "execution_count": 7,
      "outputs": []
    },
    {
      "cell_type": "code",
      "source": [
        "raw_data[:,0] -= 1\n",
        "raw_data[:,1] -= 1"
      ],
      "metadata": {
        "id": "mNFxz9GBTfWp"
      },
      "execution_count": 8,
      "outputs": []
    },
    {
      "cell_type": "code",
      "source": [
        "n_users = np.max(raw_data[:,0])\n",
        "n_movies = np.max(raw_data[:,1])\n",
        "shape = (n_users + 1, n_movies +1)\n",
        "shape"
      ],
      "metadata": {
        "colab": {
          "base_uri": "https://localhost:8080/"
        },
        "id": "p3XRIDNUTl-p",
        "outputId": "d1ff0ee9-f3e0-4f3b-e70c-ec3e5c3300c7"
      },
      "execution_count": 9,
      "outputs": [
        {
          "output_type": "execute_result",
          "data": {
            "text/plain": [
              "(943, 1682)"
            ]
          },
          "metadata": {},
          "execution_count": 9
        }
      ]
    },
    {
      "cell_type": "code",
      "source": [
        "adj_matrix = np.ndarray(shape, dtype = int)\n",
        "for user_id, movie_id, rating, time in raw_data:\n",
        "  adj_matrix[user_id][movie_id] = 1.\n",
        "adj_matrix"
      ],
      "metadata": {
        "colab": {
          "base_uri": "https://localhost:8080/"
        },
        "id": "F4p3eR_iT3XP",
        "outputId": "b2837a8e-f656-43f1-f6c0-9314c495a84c"
      },
      "execution_count": 10,
      "outputs": [
        {
          "output_type": "execute_result",
          "data": {
            "text/plain": [
              "array([[1, 1, 1, ..., 0, 0, 0],\n",
              "       [1, 0, 0, ..., 0, 0, 0],\n",
              "       [0, 0, 0, ..., 0, 0, 0],\n",
              "       ...,\n",
              "       [1, 0, 0, ..., 0, 0, 0],\n",
              "       [0, 0, 0, ..., 0, 0, 0],\n",
              "       [0, 1, 0, ..., 0, 0, 0]])"
            ]
          },
          "metadata": {},
          "execution_count": 10
        }
      ]
    },
    {
      "cell_type": "code",
      "source": [
        "my_id, my_vector = 0, adj_matrix[0]\n",
        "best_match, best_match_id, best_match_vector = -1,-1,[]\n",
        "\n",
        "for user_id, user_vector in enumerate(adj_matrix):\n",
        "  if my_id != user_id:\n",
        "    similarity = np.dot(my_vector, user_vector)\n",
        "    if similarity > best_match:\n",
        "      best_mach = similarity\n",
        "      best_match_id = user_id\n",
        "      best_match_vector = user_vector\n",
        "print('Best Match: {}, Best Match ID : {}'.format(best_match, best_match_id))"
      ],
      "metadata": {
        "colab": {
          "base_uri": "https://localhost:8080/"
        },
        "id": "cPZkIZnXUNEF",
        "outputId": "a2e61f57-0102-47ae-f81c-45bcedf23028"
      },
      "execution_count": 11,
      "outputs": [
        {
          "output_type": "stream",
          "name": "stdout",
          "text": [
            "Best Match: -1, Best Match ID : 942\n"
          ]
        }
      ]
    },
    {
      "cell_type": "code",
      "source": [
        "recommand_list = []\n",
        "for i, log in enumerate(zip(my_vector, best_match_vector)):\n",
        "  log1, log2 = log\n",
        "  if log1 < 1and log2 > 0.:\n",
        "    recommand_list.append(i)\n",
        "print(recommand_list)"
      ],
      "metadata": {
        "colab": {
          "base_uri": "https://localhost:8080/"
        },
        "id": "tWVsM6gRVT29",
        "outputId": "060d42b7-e9b1-47b1-b704-949c86270cd4"
      },
      "execution_count": 12,
      "outputs": [
        {
          "output_type": "stream",
          "name": "stdout",
          "text": [
            "[273, 280, 281, 283, 317, 355, 366, 372, 384, 385, 390, 392, 398, 400, 401, 402, 404, 405, 411, 414, 418, 420, 422, 425, 426, 430, 442, 448, 449, 467, 469, 470, 474, 484, 507, 525, 540, 545, 548, 558, 565, 567, 568, 569, 575, 580, 584, 594, 608, 613, 624, 654, 671, 684, 716, 719, 720, 721, 723, 731, 738, 755, 762, 764, 784, 793, 795, 807, 815, 823, 824, 830, 839, 927, 940, 942, 1010, 1027, 1043, 1046, 1066, 1073, 1187, 1227, 1329]\n"
          ]
        }
      ]
    },
    {
      "cell_type": "markdown",
      "source": [
        "* 코사인 유사도를 사용해 추천\n",
        "* 두 벡터가 이루고 있는 각을 계산"
      ],
      "metadata": {
        "id": "JNFi4tmWXKXW"
      }
    },
    {
      "cell_type": "code",
      "source": [
        "def cross_cos_similarity(v1,v2):\n",
        "  norm1 = np.sqrt(np.sum(np.square(v1)))\n",
        "  norm2 = np.sqrt(np.sum(np.square(v2)))\n",
        "\n",
        "  dot = np.dot(v1,v2)\n",
        "  return dot / (norm1 * norm2)"
      ],
      "metadata": {
        "id": "_KYm42YoXCmO"
      },
      "execution_count": 13,
      "outputs": []
    },
    {
      "cell_type": "code",
      "source": [
        "my_id, my_vector = 0, adj_matrix[0]\n",
        "best_match, best_match_id, best_match_vector = -1,-1,[]\n",
        "\n",
        "for user_id, user_vector in enumerate(adj_matrix):\n",
        "  if my_id != user_id:\n",
        "    cos_similarity = cross_cos_similarity(my_vector, user_vector)\n",
        "    if cos_similarity > best_match:\n",
        "      best_mach = cos_similarity\n",
        "      best_match_id = user_id\n",
        "      best_match_vector = user_vector\n",
        "print('Best Match: {}, Best Match ID : {}'.format(best_match, best_match_id))"
      ],
      "metadata": {
        "colab": {
          "base_uri": "https://localhost:8080/"
        },
        "id": "GjVdxfPjYFfs",
        "outputId": "7028dfee-41c0-4928-9832-e6ef132d043d"
      },
      "execution_count": 14,
      "outputs": [
        {
          "output_type": "stream",
          "name": "stdout",
          "text": [
            "Best Match: -1, Best Match ID : 942\n"
          ]
        }
      ]
    },
    {
      "cell_type": "markdown",
      "source": [
        "# 협업 필터링\n",
        "* 사용자와 항목의 유사성을 동시에 고려\n",
        "* 기존에 내 관심사가 아닌 항목이라도 추천\n",
        "* 자동으로 임베딩 학습"
      ],
      "metadata": {
        "id": "eCwPrE6_YtE4"
      }
    },
    {
      "cell_type": "code",
      "source": [
        "from surprise import KNNBasic, SVD, SVDpp, NMF\n",
        "from surprise import Dataset\n",
        "from surprise.model_selection import cross_validate"
      ],
      "metadata": {
        "id": "nLe5KemWYmRF"
      },
      "execution_count": 15,
      "outputs": []
    },
    {
      "cell_type": "code",
      "source": [
        "data = Dataset.load_builtin('ml-100k', prompt = False)"
      ],
      "metadata": {
        "id": "qfZBwnFOYmOm"
      },
      "execution_count": 16,
      "outputs": []
    },
    {
      "cell_type": "markdown",
      "source": [
        "## KNNbasic을 사용한 협업 필터링"
      ],
      "metadata": {
        "id": "eKJrFjemZWtD"
      }
    },
    {
      "cell_type": "code",
      "source": [
        "model = KNNBasic()\n",
        "cross_validate(model, data, measures = ['rmse', 'mae'], cv =5, n_jobs = 4, verbose = True)"
      ],
      "metadata": {
        "colab": {
          "base_uri": "https://localhost:8080/"
        },
        "id": "vHkBMGAxYmL7",
        "outputId": "67831dcf-f17f-4fb1-ba3a-ebd51d1ebd8a"
      },
      "execution_count": 17,
      "outputs": [
        {
          "output_type": "stream",
          "name": "stdout",
          "text": [
            "Evaluating RMSE, MAE of algorithm KNNBasic on 5 split(s).\n",
            "\n",
            "                  Fold 1  Fold 2  Fold 3  Fold 4  Fold 5  Mean    Std     \n",
            "RMSE (testset)    0.9811  0.9637  0.9748  0.9869  0.9834  0.9780  0.0082  \n",
            "MAE (testset)     0.7742  0.7615  0.7707  0.7796  0.7760  0.7724  0.0062  \n",
            "Fit time          0.35    0.41    0.62    0.60    0.51    0.50    0.11    \n",
            "Test time         6.58    8.10    8.43    6.39    4.03    6.71    1.56    \n"
          ]
        },
        {
          "output_type": "execute_result",
          "data": {
            "text/plain": [
              "{'fit_time': (0.34525132179260254,\n",
              "  0.4105257987976074,\n",
              "  0.6234827041625977,\n",
              "  0.5984477996826172,\n",
              "  0.5137319564819336),\n",
              " 'test_mae': array([0.77419307, 0.76145315, 0.77068052, 0.77958988, 0.77604258]),\n",
              " 'test_rmse': array([0.98108614, 0.96368066, 0.97480789, 0.98694947, 0.98335157]),\n",
              " 'test_time': (6.575359106063843,\n",
              "  8.103976249694824,\n",
              "  8.427873373031616,\n",
              "  6.393515348434448,\n",
              "  4.030378580093384)}"
            ]
          },
          "metadata": {},
          "execution_count": 17
        }
      ]
    },
    {
      "cell_type": "markdown",
      "source": [
        "## SVD를 사용한 협업 필터링"
      ],
      "metadata": {
        "id": "2QDQLUll2ihD"
      }
    },
    {
      "cell_type": "code",
      "source": [
        "model = SVD()\n",
        "cross_validate(model, data, measures = ['rmse', 'mae'], cv =5, n_jobs = 4, verbose = True)"
      ],
      "metadata": {
        "colab": {
          "base_uri": "https://localhost:8080/"
        },
        "id": "DaoaXZ51YmJL",
        "outputId": "99fb7d1a-ab15-40c3-8039-3d0e03c80c8d"
      },
      "execution_count": 18,
      "outputs": [
        {
          "output_type": "stream",
          "name": "stdout",
          "text": [
            "Evaluating RMSE, MAE of algorithm SVD on 5 split(s).\n",
            "\n",
            "                  Fold 1  Fold 2  Fold 3  Fold 4  Fold 5  Mean    Std     \n",
            "RMSE (testset)    0.9291  0.9444  0.9328  0.9333  0.9419  0.9363  0.0058  \n",
            "MAE (testset)     0.7327  0.7435  0.7351  0.7359  0.7393  0.7373  0.0037  \n",
            "Fit time          10.02   12.40   12.54   10.38   6.97    10.46   2.02    \n",
            "Test time         0.46    0.46    0.40    0.23    0.14    0.34    0.13    \n"
          ]
        },
        {
          "output_type": "execute_result",
          "data": {
            "text/plain": [
              "{'fit_time': (10.021586656570435,\n",
              "  12.404861450195312,\n",
              "  12.539223194122314,\n",
              "  10.37698221206665,\n",
              "  6.96793794631958),\n",
              " 'test_mae': array([0.73274948, 0.74349623, 0.73508158, 0.73586089, 0.73932489]),\n",
              " 'test_rmse': array([0.92913807, 0.94436634, 0.93278916, 0.93331709, 0.9419154 ]),\n",
              " 'test_time': (0.4574716091156006,\n",
              "  0.46450304985046387,\n",
              "  0.3977944850921631,\n",
              "  0.2252507209777832,\n",
              "  0.1365509033203125)}"
            ]
          },
          "metadata": {},
          "execution_count": 18
        }
      ]
    },
    {
      "cell_type": "markdown",
      "source": [
        "## NMF를 사용한 협업 필터링"
      ],
      "metadata": {
        "id": "TxhhVYfd2sck"
      }
    },
    {
      "cell_type": "code",
      "source": [
        "model = NMF()\n",
        "cross_validate(model, data, measures = ['rmse', 'mae'], cv =5, n_jobs = 4, verbose = True)"
      ],
      "metadata": {
        "colab": {
          "base_uri": "https://localhost:8080/"
        },
        "id": "2iDDfCIsYmGj",
        "outputId": "e1164b6d-c353-45ed-bb98-aeafdb201db3"
      },
      "execution_count": 19,
      "outputs": [
        {
          "output_type": "stream",
          "name": "stdout",
          "text": [
            "Evaluating RMSE, MAE of algorithm NMF on 5 split(s).\n",
            "\n",
            "                  Fold 1  Fold 2  Fold 3  Fold 4  Fold 5  Mean    Std     \n",
            "RMSE (testset)    0.9585  0.9674  0.9617  0.9589  0.9646  0.9622  0.0034  \n",
            "MAE (testset)     0.7550  0.7607  0.7551  0.7527  0.7580  0.7563  0.0028  \n",
            "Fit time          11.15   13.26   13.56   11.31   7.46    11.35   2.18    \n",
            "Test time         0.47    0.34    0.31    0.19    0.12    0.29    0.12    \n"
          ]
        },
        {
          "output_type": "execute_result",
          "data": {
            "text/plain": [
              "{'fit_time': (11.149754524230957,\n",
              "  13.259210348129272,\n",
              "  13.564266681671143,\n",
              "  11.307984113693237,\n",
              "  7.460906267166138),\n",
              " 'test_mae': array([0.75495165, 0.76066651, 0.75510639, 0.75268224, 0.75797074]),\n",
              " 'test_rmse': array([0.95851408, 0.96744615, 0.96168184, 0.95887852, 0.96460414]),\n",
              " 'test_time': (0.4666166305541992,\n",
              "  0.3439757823944092,\n",
              "  0.3088560104370117,\n",
              "  0.19393539428710938,\n",
              "  0.11891746520996094)}"
            ]
          },
          "metadata": {},
          "execution_count": 19
        }
      ]
    },
    {
      "cell_type": "markdown",
      "source": [
        "## SVD++를 사용한 협업 필터링"
      ],
      "metadata": {
        "id": "y97uMTlB2v8c"
      }
    },
    {
      "cell_type": "code",
      "source": [
        "model = SVDpp()\n",
        "cross_validate(model, data, measures = ['rmse', 'mae'], cv =5, n_jobs = 4, verbose = True)"
      ],
      "metadata": {
        "colab": {
          "base_uri": "https://localhost:8080/"
        },
        "id": "1PLP1zC5YmDy",
        "outputId": "9d064eab-a309-44b9-f854-e0c683c40b50"
      },
      "execution_count": 20,
      "outputs": [
        {
          "output_type": "stream",
          "name": "stdout",
          "text": [
            "Evaluating RMSE, MAE of algorithm SVDpp on 5 split(s).\n",
            "\n",
            "                  Fold 1  Fold 2  Fold 3  Fold 4  Fold 5  Mean    Std     \n",
            "RMSE (testset)    0.9195  0.9186  0.9228  0.9195  0.9176  0.9196  0.0017  \n",
            "MAE (testset)     0.7215  0.7196  0.7240  0.7204  0.7198  0.7211  0.0016  \n",
            "Fit time          561.05  559.69  564.03  564.95  141.27  478.20  168.48  \n",
            "Test time         10.08   10.18   7.95    5.60    2.59    7.28    2.88    \n"
          ]
        },
        {
          "output_type": "execute_result",
          "data": {
            "text/plain": [
              "{'fit_time': (561.049090385437,\n",
              "  559.6857116222382,\n",
              "  564.0267977714539,\n",
              "  564.9547748565674,\n",
              "  141.26636576652527),\n",
              " 'test_mae': array([0.72150413, 0.71956229, 0.72401237, 0.72044898, 0.71984764]),\n",
              " 'test_rmse': array([0.91954038, 0.91856159, 0.92275322, 0.9195138 , 0.91755947]),\n",
              " 'test_time': (10.078526258468628,\n",
              "  10.182770729064941,\n",
              "  7.946866273880005,\n",
              "  5.599149227142334,\n",
              "  2.586862087249756)}"
            ]
          },
          "metadata": {},
          "execution_count": 20
        }
      ]
    },
    {
      "cell_type": "markdown",
      "source": [
        "# 하이브리드\n",
        "* 컨텐츠 기반 필터링과 협업 기반의 필터링 조합"
      ],
      "metadata": {
        "id": "pR_3aVKS2__z"
      }
    },
    {
      "cell_type": "code",
      "source": [
        "import numpy as np\n",
        "from sklearn.decomposition import randomized_svd, non_negative_factorization\n",
        "from surprise import Dataset"
      ],
      "metadata": {
        "id": "7MLmyHdSYmA0"
      },
      "execution_count": 60,
      "outputs": []
    },
    {
      "cell_type": "code",
      "source": [
        "data = Dataset.load_builtin('ml-100k', prompt= False)\n",
        "raw_data = np.array(data.raw_ratings, dtype = int)\n",
        "raw_data[:, 0] -= 1\n",
        "raw_data[:, 1] -= 1"
      ],
      "metadata": {
        "id": "MdkTqknSYl99"
      },
      "execution_count": 61,
      "outputs": []
    },
    {
      "cell_type": "code",
      "source": [
        "n_users = np.max(raw_data[:, 0])\n",
        "n_movies =np.max(raw_data[:, 1])\n",
        "shape = (n_users +1, n_movies +1)\n",
        "shape"
      ],
      "metadata": {
        "colab": {
          "base_uri": "https://localhost:8080/"
        },
        "id": "pzCDTuMTYl7W",
        "outputId": "cb2c9cfa-8876-47a6-f5e2-4af9ec1b8f7f"
      },
      "execution_count": 62,
      "outputs": [
        {
          "output_type": "execute_result",
          "data": {
            "text/plain": [
              "(943, 1682)"
            ]
          },
          "metadata": {},
          "execution_count": 62
        }
      ]
    },
    {
      "cell_type": "code",
      "source": [
        "adj_matrix = np.ndarray(shape, dtype = int)\n",
        "for user_id, movie_id, rating, time in raw_data:\n",
        "  adj_matrix[user_id][movie_id] = rating"
      ],
      "metadata": {
        "id": "4H9yL6QNYl4U"
      },
      "execution_count": 63,
      "outputs": []
    },
    {
      "cell_type": "code",
      "source": [
        "adj_matrix"
      ],
      "metadata": {
        "colab": {
          "base_uri": "https://localhost:8080/"
        },
        "id": "OGqF-L8EYl1s",
        "outputId": "e67401c3-c26a-4892-876f-b25fca4ff320"
      },
      "execution_count": 64,
      "outputs": [
        {
          "output_type": "execute_result",
          "data": {
            "text/plain": [
              "array([[5, 3, 4, ..., 0, 0, 0],\n",
              "       [4, 0, 0, ..., 0, 0, 0],\n",
              "       [0, 0, 0, ..., 0, 0, 0],\n",
              "       ...,\n",
              "       [5, 0, 0, ..., 0, 0, 0],\n",
              "       [0, 0, 0, ..., 0, 0, 0],\n",
              "       [0, 5, 0, ..., 0, 0, 0]])"
            ]
          },
          "metadata": {},
          "execution_count": 64
        }
      ]
    },
    {
      "cell_type": "code",
      "source": [
        "U, S, V = randomized_svd(adj_matrix, n_components= 2)\n",
        "S = np.diag(S)"
      ],
      "metadata": {
        "colab": {
          "base_uri": "https://localhost:8080/"
        },
        "id": "VM9qaA4AYlyY",
        "outputId": "4c7c59f9-f193-4bdf-d188-c8917036bb1a"
      },
      "execution_count": 65,
      "outputs": [
        {
          "output_type": "stream",
          "name": "stderr",
          "text": [
            "/usr/local/lib/python3.7/dist-packages/sklearn/utils/extmath.py:376: FutureWarning: If 'random_state' is not supplied, the current default is to use 0 as a fixed seed. This will change to  None in version 1.2 leading to non-deterministic results that better reflect nature of the randomized_svd solver. If you want to silence this warning, set 'random_state' to an integer seed or to None explicitly depending if you want your code to be deterministic or not.\n",
            "  FutureWarning,\n"
          ]
        }
      ]
    },
    {
      "cell_type": "code",
      "source": [
        "print(U.shape)\n",
        "print(S.shape)\n",
        "print(V.shape)"
      ],
      "metadata": {
        "colab": {
          "base_uri": "https://localhost:8080/"
        },
        "id": "jaucmXkwYlvh",
        "outputId": "96f51a20-3fe3-4618-e3e9-58a224de93cf"
      },
      "execution_count": 66,
      "outputs": [
        {
          "output_type": "stream",
          "name": "stdout",
          "text": [
            "(943, 2)\n",
            "(2, 2)\n",
            "(2, 1682)\n"
          ]
        }
      ]
    },
    {
      "cell_type": "code",
      "source": [
        "np.matmul(np.matmul(U,S), V)"
      ],
      "metadata": {
        "colab": {
          "base_uri": "https://localhost:8080/"
        },
        "id": "EYNyOur2Ylr8",
        "outputId": "760de08a-ecec-4c4a-8635-7c5fe22090f7"
      },
      "execution_count": 67,
      "outputs": [
        {
          "output_type": "execute_result",
          "data": {
            "text/plain": [
              "array([[ 3.91732663e+00,  1.47276644e+00,  7.98261988e-01, ...,\n",
              "         6.24907189e-04,  1.41100852e-02,  1.36545878e-02],\n",
              "       [ 1.85777226e+00,  3.96191175e-01,  5.05705740e-01, ...,\n",
              "         5.38862978e-03,  1.77237914e-03,  5.26968095e-04],\n",
              "       [ 8.94989517e-01,  1.71578497e-01,  2.51738682e-01, ...,\n",
              "         2.92094923e-03,  5.39937171e-04, -1.25733753e-04],\n",
              "       ...,\n",
              "       [ 9.92051955e-01,  2.10814957e-01,  2.70363365e-01, ...,\n",
              "         2.89019297e-03,  9.34221962e-04,  2.66612193e-04],\n",
              "       [ 1.30425401e+00,  5.27669941e-01,  2.50080165e-01, ...,\n",
              "        -4.20677765e-04,  5.30525683e-03,  5.28069948e-03],\n",
              "       [ 2.82999397e+00,  9.70812247e-01,  6.15871694e-01, ...,\n",
              "         2.02091492e-03,  8.67740813e-03,  8.03107892e-03]])"
            ]
          },
          "metadata": {},
          "execution_count": 67
        }
      ]
    },
    {
      "cell_type": "markdown",
      "source": [
        "* 사용자 기반 추천\n",
        "* 나와 비슷한 취향을 가진 다른 사용자의 행동을 추천\n",
        "* 사용자 특징 벡터의 유사도 사용"
      ],
      "metadata": {
        "id": "brSBUdbk-iPX"
      }
    },
    {
      "cell_type": "code",
      "source": [
        "my_id, my_vector = 0,U[0]\n",
        "best_match, best_match_id, best_match_vector = -1,-1,[]\n",
        "\n",
        "for user_id, user_vector in enumerate(U):\n",
        "  if my_id != user_id:\n",
        "    cos_similarity = cross_cos_similarity(my_vector, user_vector)\n",
        "    if cos_similarity > best_match:\n",
        "      best_mach = cos_similarity\n",
        "      best_match_id = user_id\n",
        "      best_match_vector = user_vector\n",
        "print('Best Match: {}, Best Match ID : {}'.format(best_match, best_match_id))"
      ],
      "metadata": {
        "colab": {
          "base_uri": "https://localhost:8080/"
        },
        "id": "wGClI78DYlpH",
        "outputId": "8b1d2f40-a834-4b22-816e-3afd2fa322c9"
      },
      "execution_count": 68,
      "outputs": [
        {
          "output_type": "stream",
          "name": "stdout",
          "text": [
            "Best Match: -1, Best Match ID : 942\n"
          ]
        }
      ]
    },
    {
      "cell_type": "code",
      "source": [
        "recommand_list = []\n",
        "\n",
        "for i , log in enumerate(zip(my_vector, best_match_vector)):\n",
        "  log1, log2 = log\n",
        "  if log1 < 1. and log2 >0:\n",
        "    recommand_list.append(i)\n",
        "print(recommand_list)"
      ],
      "metadata": {
        "colab": {
          "base_uri": "https://localhost:8080/"
        },
        "id": "awqbgGlxYlmY",
        "outputId": "684899a0-9bed-4044-d4ea-e88cfdc2542d"
      },
      "execution_count": 69,
      "outputs": [
        {
          "output_type": "stream",
          "name": "stdout",
          "text": [
            "[0]\n"
          ]
        }
      ]
    }
  ]
}